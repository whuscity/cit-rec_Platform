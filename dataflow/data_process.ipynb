{
 "cells": [
  {
   "cell_type": "markdown",
   "source": [
    "# 数据处理与存储"
   ],
   "metadata": {}
  },
  {
   "cell_type": "markdown",
   "source": [
    "## 基本说明\r\n",
    "\r\n",
    "脚本根据 [citation-recommendation](https://github.com/whuscity/citation-recommendation) 整理。\r\n",
    "\r\n",
    "本脚本的作用：\r\n",
    "* 读取原始的引文数据\r\n",
    "* 引文、作者、关键词 ID 化\r\n",
    "* 根据网络表示学习不同模型特点，保存为模型所需的连边、网络等\r\n",
    "* 将基础数据存入数据库"
   ],
   "metadata": {}
  },
  {
   "cell_type": "markdown",
   "source": [
    "## 依赖\r\n",
    "\r\n",
    "图表示部分基于 [@shenweichen](https://github.com/shenweichen) 的 [GraphEmbedding](https://github.com/shenweichen/GraphEmbedding) 中的部分模型，可参考该仓库进行导入。\r\n",
    "\r\n",
    "执行本脚本所需包如下，一并导入。"
   ],
   "metadata": {}
  },
  {
   "cell_type": "code",
   "execution_count": 67,
   "source": [
    "import numpy as np\r\n",
    "import pandas as pd\r\n",
    "import json\r\n",
    "import networkx as nx\r\n",
    "import sys,argparse,random\r\n",
    "from gensim.models import Word2Vec\r\n",
    "from ge import Graph"
   ],
   "outputs": [],
   "metadata": {}
  },
  {
   "cell_type": "markdown",
   "source": [
    "## 文件目录、数据库配置限定"
   ],
   "metadata": {}
  },
  {
   "cell_type": "code",
   "execution_count": 91,
   "source": [
    "dir_input = \"./data/aan/aan_full.csv\"\r\n",
    "dir_node_type = \"./data/aan/aan_node_type.txt\"\r\n",
    "dir_gatne_edge = \"./data/aan/aan_gatne_edge.txt\"\r\n",
    "dir_normal_edge = \"./data/aan/aan_normal_edge.txt\"\r\n",
    "dir_emb = \"./data/aan/aan_node2vec.emb\"\r\n",
    "dir_cite_edge = \"./data/aan/aan_cite_edge.txt\"\r\n",
    "dir_cite_nx = \"./data/aan/aan_cite.edgelist\"\r\n",
    "dir_final_data = \"./data/aan/aan.csv\"\r\n",
    "dir_node_id = \"./data/aan/aan_node_id.csv\"\r\n",
    "\r\n",
    "dbname = \"aan\""
   ],
   "outputs": [],
   "metadata": {}
  },
  {
   "cell_type": "code",
   "execution_count": 56,
   "source": [
    "from py2neo import Graph, Node, Relationship, NodeMatcher, RelationshipMatcher\r\n",
    "\r\n",
    "class neoConnection:\r\n",
    "    def __init__(self):\r\n",
    "        self.graph = Graph(\r\n",
    "            \"http://localhost:7474\",\r\n",
    "            user = \"cradmin\",\r\n",
    "            password = \"888888\"\r\n",
    "        )\r\n",
    "\r\n",
    "import pymysql\r\n",
    "\r\n",
    "class mysqlConnection:\r\n",
    "    def __init__(self):\r\n",
    "        self.connection = pymysql.connect(\r\n",
    "            host=\"localhost\",\r\n",
    "            user=\"cradmin\",\r\n",
    "            passwd=\"888888\",\r\n",
    "            database=\"cit_rec\"\r\n",
    "        )\r\n",
    "        self.cursor = self.connection.cursor()"
   ],
   "outputs": [],
   "metadata": {}
  },
  {
   "cell_type": "markdown",
   "source": [
    "# 数据预处理\r\n",
    "\r\n",
    "## 数据读取与描述统计"
   ],
   "metadata": {}
  },
  {
   "cell_type": "code",
   "execution_count": 57,
   "source": [
    "df = pd.read_csv(dir_input,usecols = ['id','author','refs','new_new_keywords','year','title','abstract','content'])\r\n",
    "authors = list(set(df['author']))\r\n",
    "keywords = list(set(df['new_new_keywords']))\r\n",
    "refs = list(set(df['refs']))\r\n",
    "papers = list(set(df['id'].astype(str)))"
   ],
   "outputs": [],
   "metadata": {}
  },
  {
   "cell_type": "code",
   "execution_count": 58,
   "source": [
    "aus = []\r\n",
    "for au in authors:\r\n",
    "    if type(au)!=float and len(au)>0:\r\n",
    "        aus += au.split(\";\")\r\n",
    "aus = list(set(aus))\r\n",
    "kws = []\r\n",
    "for kw in keywords:\r\n",
    "    if type(kw)!=float and len(kw)>0:\r\n",
    "        kws += kw.split(\";\")\r\n",
    "kws = list(set(kws))\r\n",
    "paper_count = len(papers)\r\n",
    "author_count = len(set(aus))\r\n",
    "keyword_count = len(set(kws))\r\n",
    "print(\"不重复的论文数为{}\".format(paper_count))\r\n",
    "print(\"不重复的作者数为{}\".format(author_count))\r\n",
    "print(\"不重复的关键词数为{}\".format(keyword_count))"
   ],
   "outputs": [
    {
     "output_type": "stream",
     "name": "stdout",
     "text": [
      "不重复的论文数为16706\n",
      "不重复的作者数为18861\n",
      "不重复的关键词数为44502\n"
     ]
    }
   ],
   "metadata": {}
  },
  {
   "cell_type": "markdown",
   "source": [
    "## 实体 ID 化\r\n",
    "\r\n",
    "统计完论文、作者、关键词的数量之后就可以对其进行 ID 化。\r\n",
    "创建一个 `node_type` 文件用于记录不同 ID 的节点实体类型。"
   ],
   "metadata": {}
  },
  {
   "cell_type": "code",
   "execution_count": 59,
   "source": [
    "p = []; a = []; k = []\r\n",
    "for i in range(paper_count):\r\n",
    "    p.append(str(i)+\" \"+\"P\")\r\n",
    "for j in range(paper_count,paper_count+author_count):\r\n",
    "    a.append(str(j)+\" \"+\"A\")\r\n",
    "for m in range(paper_count+author_count,paper_count+author_count+keyword_count):\r\n",
    "    k.append(str(m)+\" \"+\"K\")\r\n",
    "total = p+a+k\r\n",
    "with open(dir_node_type,\"w\") as f:\r\n",
    "    for each in total:\r\n",
    "        f.write(each+\"\\n\")\r\n",
    "    f.close()"
   ],
   "outputs": [],
   "metadata": {}
  },
  {
   "cell_type": "code",
   "execution_count": 60,
   "source": [
    "def get_id(x,entity_name_set,offset):\r\n",
    "    entity_ids = []\r\n",
    "    if type(x) != float and len(x)>0:\r\n",
    "        for entity_name in x.split(';'):\r\n",
    "            entity_ids.append(str(entity_name_set.index(str(entity_name))+offset))\r\n",
    "    return ';'.join(entity_ids)\r\n",
    "\r\n",
    "df['paper_id'] = df['id'].apply(get_id,entity_name_set=papers,offset=0)\r\n",
    "df['author_id'] = df['author'].apply(get_id,entity_name_set=aus,offset=paper_count)\r\n",
    "df['keyword_id'] = df['new_new_keywords'].apply(get_id,entity_name_set=kws,offset=paper_count+author_count)\r\n",
    "df['refs_id'] = df['refs'].apply(get_id,entity_name_set=papers,offset=0)"
   ],
   "outputs": [],
   "metadata": {}
  },
  {
   "cell_type": "markdown",
   "source": [
    "## 生成连边数据\r\n",
    "\r\n",
    "目前包含三类连边：\r\n",
    "1. 【作者】----(撰写)----【论文】\r\n",
    "2. 【论文】----(包含)----【关键词】\r\n",
    "3. 【论文】----(引用)----【论文】\r\n",
    "\r\n"
   ],
   "metadata": {}
  },
  {
   "cell_type": "code",
   "execution_count": 64,
   "source": [
    "a_p_edges = []; normal_a_p_edges = []\r\n",
    "p_k_edges = []; normal_p_k_edges = []\r\n",
    "p_p_edges = []; normal_p_p_edges = []\r\n",
    "\r\n",
    "for i,row in df.iterrows():\r\n",
    "    if len(row['author_id']) > 0:\r\n",
    "        for author in row['author_id'].split(';'):\r\n",
    "            a_p_edges.append(\"1 \" + str(author) + ' ' + str(row['paper_id']))\r\n",
    "            normal_a_p_edges.append(str(author) + ' ' + str(row['paper_id']))\r\n",
    "    if len(row['keyword_id']) > 0:\r\n",
    "        for keyword in row['keyword_id'].split(';'):\r\n",
    "            p_k_edges.append(\"2 \" + str(row['paper_id']) + ' ' + str(keyword))\r\n",
    "            normal_p_k_edges.append(str(row['paper_id']) + ' ' + str(keyword))\r\n",
    "    if len(row['refs_id']) > 0:\r\n",
    "        for ref in row['refs_id'].split(';'):\r\n",
    "            p_p_edges.append(\"3 \" + str(row['paper_id']) + ' ' + str(ref))\r\n",
    "            normal_p_p_edges.append(str(row['paper_id']) + ' ' + str(ref))\r\n",
    "\r\n",
    "def write_text(texts,filepath):\r\n",
    "    with open(filepath,\"w\",encoding = \"utf-8\") as f:\r\n",
    "        for each in texts:\r\n",
    "            f.write(each+\"\\n\")\r\n",
    "        f.close()\r\n",
    "\r\n",
    "gatne_edges = a_p_edges + p_k_edges + p_p_edges\r\n",
    "normal_edges = normal_a_p_edges + normal_p_k_edges + normal_p_p_edges\r\n",
    "write_text(gatne_edges,dir_gatne_edge)\r\n",
    "write_text(normal_edges,dir_normal_edge)\r\n",
    "write_text(normal_p_p_edges,dir_cite_edge)"
   ],
   "outputs": [],
   "metadata": {}
  },
  {
   "cell_type": "markdown",
   "source": [
    "# 网络表示学习\r\n",
    "\r\n",
    "根据 [@flyingzhy](https://github.com/flyingzhy) 的试验结果直接采取最优状态下的模型参数。\r\n"
   ],
   "metadata": {}
  },
  {
   "cell_type": "markdown",
   "source": [
    "## 获取 `networkx` 图"
   ],
   "metadata": {}
  },
  {
   "cell_type": "code",
   "execution_count": 65,
   "source": [
    "def read_txt(filename):\r\n",
    "    with open(filename, \"r\", encoding=\"utf8\") as f:\r\n",
    "        res = f.readlines()\r\n",
    "        f.close()\r\n",
    "    pairs = []\r\n",
    "    for edge in res:\r\n",
    "        edge_list = edge.strip(\"\\n\").split(\" \")\r\n",
    "        pairs.append((int(edge_list[0]),int(edge_list[1])))\r\n",
    "    return pairs\r\n",
    "path = nx.DiGraph()\r\n",
    "edges = read_txt(dir_cite_edge)\r\n",
    "path.add_edges_from(edges)\r\n",
    "dedges = path.edges()\r\n",
    "ans = []\r\n",
    "for each in edges:\r\n",
    "    if each not in dedges:\r\n",
    "        ans.append(each)\r\n",
    "nx.write_edgelist(path, dir_cite_nx)"
   ],
   "outputs": [],
   "metadata": {}
  },
  {
   "cell_type": "markdown",
   "source": [
    "## Node2Vec 表示"
   ],
   "metadata": {}
  },
  {
   "cell_type": "code",
   "execution_count": 71,
   "source": [
    "def parse_args():\r\n",
    "    '''\r\n",
    "    Parses the node2vec arguments.\r\n",
    "    '''\r\n",
    "    parser = argparse.ArgumentParser(description=\"Run node2vec.\")\r\n",
    "\r\n",
    "    parser.add_argument('--input', default=dir_cite_nx,\r\n",
    "                        help='Input graph path')\r\n",
    "\r\n",
    "    parser.add_argument('--output', default=dir_emb,\r\n",
    "                        help='Embeddings path')\r\n",
    "\r\n",
    "    parser.add_argument('--dimensions', type=int, default=128,\r\n",
    "                        help='Number of dimensions. Default is 128.')\r\n",
    "\r\n",
    "    parser.add_argument('--walk-length', type=int, default=20,\r\n",
    "                        help='Length of walk per source. Default is 80.')\r\n",
    "\r\n",
    "    parser.add_argument('--num-walks', type=int, default=5,\r\n",
    "                        help='Number of walks per source. Default is 10.')\r\n",
    "\r\n",
    "    parser.add_argument('--window-size', type=int, default=8,\r\n",
    "                        help='Context size for optimization. Default is 10.')\r\n",
    "\r\n",
    "    parser.add_argument('--iter', default=1, type=int,\r\n",
    "                        help='Number of epochs in SGD')\r\n",
    "\r\n",
    "    parser.add_argument('--workers', type=int, default=8,\r\n",
    "                        help='Number of parallel workers. Default is 8.')\r\n",
    "\r\n",
    "    parser.add_argument('--p', type=float, default=0.5,\r\n",
    "                        help='Return hyperparameter. Default is 1.')\r\n",
    "\r\n",
    "    parser.add_argument('--q', type=float, default=0.5,\r\n",
    "                        help='Inout hyperparameter. Default is 1.')\r\n",
    "\r\n",
    "    parser.add_argument('--weighted', dest='weighted', action='store_true',\r\n",
    "                        help='Boolean specifying (un)weighted. Default is unweighted.')\r\n",
    "    parser.add_argument('--unweighted', dest='unweighted', action='store_false')\r\n",
    "    parser.set_defaults(weighted=False)\r\n",
    "\r\n",
    "    parser.add_argument('--directed', dest='directed', action='store_true',\r\n",
    "                        help='Graph is (un)directed. Default is undirected.')\r\n",
    "    parser.add_argument('--undirected', dest='undirected', action='store_false')\r\n",
    "    parser.set_defaults(directed=False)\r\n",
    "\r\n",
    "    return parser.parse_args(args=[])\r\n",
    "\r\n",
    "\r\n",
    "def read_graph():\r\n",
    "    '''\r\n",
    "    Reads the input network in networkx.\r\n",
    "    '''\r\n",
    "    if args.weighted:\r\n",
    "        G = nx.read_edgelist(args.input, nodetype=int, data=(('weight', float),), create_using=nx.DiGraph())\r\n",
    "    else:\r\n",
    "        G = nx.read_edgelist(args.input, nodetype=int, create_using=nx.DiGraph())\r\n",
    "        for edge in G.edges():\r\n",
    "            G[edge[0]][edge[1]]['weight'] = 1\r\n",
    "\r\n",
    "    if not args.directed:\r\n",
    "        G = G.to_undirected()\r\n",
    "\r\n",
    "    return G\r\n",
    "\r\n",
    "\r\n",
    "def learn_embeddings(walks):\r\n",
    "    '''\r\n",
    "    Learn embeddings by optimizing the Skipgram objective using SGD.\r\n",
    "    '''\r\n",
    "    walks = [list(map(str, walk)) for walk in walks]\r\n",
    "    model = Word2Vec(walks, size=args.dimensions, window=args.window_size, min_count=0, sg=1, workers=args.workers,\r\n",
    "                     iter=args.iter)\r\n",
    "    model.wv.save_word2vec_format(args.output)\r\n",
    "    print(\"保存完毕\")\r\n",
    "\r\n",
    "    return\r\n",
    "\r\n",
    "\r\n",
    "args = parse_args()\r\n",
    "nx_G = read_graph()\r\n",
    "G = Graph(nx_G, args.directed, args.p, args.q)\r\n",
    "G.preprocess_transition_probs()\r\n",
    "walks = G.simulate_walks(args.num_walks, args.walk_length)\r\n",
    "print(\"开始执行\")\r\n",
    "learn_embeddings(walks)"
   ],
   "outputs": [
    {
     "output_type": "stream",
     "name": "stdout",
     "text": [
      "Walk iteration:\n",
      "1 / 5\n",
      "2 / 5\n",
      "3 / 5\n",
      "4 / 5\n",
      "5 / 5\n",
      "开始执行\n"
     ]
    },
    {
     "output_type": "stream",
     "name": "stderr",
     "text": [
      "C:\\Program Files\\Python38\\Lib\\site-packages\\gensim\\models\\base_any2vec.py:742: UserWarning: C extension not loaded, training will be slow. Install a C compiler and reinstall gensim for fast training.\n",
      "  warnings.warn(\n"
     ]
    },
    {
     "output_type": "stream",
     "name": "stdout",
     "text": [
      "保存完毕\n"
     ]
    }
   ],
   "metadata": {}
  },
  {
   "cell_type": "code",
   "execution_count": 74,
   "source": [
    "df.to_csv(dir_final_data,index=False)"
   ],
   "outputs": [],
   "metadata": {}
  },
  {
   "cell_type": "code",
   "execution_count": 81,
   "source": [
    "node_list = []\r\n",
    "for x,y in zip(np.array(range(len(papers))),np.array(papers)):\r\n",
    "    node_list.append([x,y,'P'])\r\n",
    "for x,y in zip(np.array(range(len(aus))),np.array(aus)):\r\n",
    "    node_list.append([x,y,'A'])\r\n",
    "for x,y in zip(np.array(range(len(kws))),np.array(kws)):\r\n",
    "    node_list.append([x,y,'K'])\r\n"
   ],
   "outputs": [],
   "metadata": {}
  },
  {
   "cell_type": "code",
   "execution_count": 88,
   "source": [
    "nodes = pd.DataFrame(node_list,columns=['id','node_name','node_type'])"
   ],
   "outputs": [],
   "metadata": {}
  },
  {
   "cell_type": "code",
   "execution_count": 89,
   "source": [
    "nodes['dbname']=dbname"
   ],
   "outputs": [],
   "metadata": {}
  },
  {
   "cell_type": "code",
   "execution_count": 92,
   "source": [
    "nodes.to_csv(dir_node_id,index=False)"
   ],
   "outputs": [],
   "metadata": {}
  }
 ],
 "metadata": {
  "orig_nbformat": 4,
  "language_info": {
   "name": "python",
   "version": "3.8.8",
   "mimetype": "text/x-python",
   "codemirror_mode": {
    "name": "ipython",
    "version": 3
   },
   "pygments_lexer": "ipython3",
   "nbconvert_exporter": "python",
   "file_extension": ".py"
  },
  "kernelspec": {
   "name": "python3",
   "display_name": "Python 3.8.8 64-bit"
  },
  "interpreter": {
   "hash": "1baa965d5efe3ac65b79dfc60c0d706280b1da80fedb7760faf2759126c4f253"
  }
 },
 "nbformat": 4,
 "nbformat_minor": 2
}