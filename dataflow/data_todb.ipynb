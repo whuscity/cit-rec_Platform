{
 "cells": [
  {
   "cell_type": "markdown",
   "metadata": {},
   "source": [
    "# 将文本字段存入neo4j"
   ]
  },
  {
   "cell_type": "code",
   "execution_count": 1,
   "metadata": {},
   "outputs": [],
   "source": [
    "import pymysql \n",
    "from py2neo import Graph, Node, Relationship, NodeMatcher, RelationshipMatcher"
   ]
  },
  {
   "cell_type": "markdown",
   "metadata": {},
   "source": [
    "## 节点部分\n",
    "存入的字段： \n",
    "* Title\n",
    "* Abstract\n",
    "* Year\n",
    "* dbname"
   ]
  },
  {
   "cell_type": "code",
   "execution_count": 31,
   "metadata": {},
   "outputs": [],
   "source": [
    "connection = pymysql.connect(\n",
    "            host=\"localhost\",\n",
    "            user=\"cradmin\",\n",
    "            passwd=\"888888\",\n",
    "            database=\"cit_rec\"\n",
    "        )\n",
    "graph = Graph(\n",
    "            \"http://localhost:7474\",\n",
    "            user = \"cradmin\",\n",
    "            password = \"888888\"\n",
    "        )\n",
    "cursor = connection.cursor()\n",
    "n_matcher = NodeMatcher(graph)"
   ]
  },
  {
   "cell_type": "code",
   "execution_count": 8,
   "metadata": {},
   "outputs": [
    {
     "data": {
      "text/plain": [
       "16706"
      ]
     },
     "execution_count": 8,
     "metadata": {},
     "output_type": "execute_result"
    }
   ],
   "source": [
    "sql = \"\"\"\n",
    "SELECT id, title, year, abstract, dbname\n",
    "FROM paper_info\n",
    "\"\"\"\n",
    "cursor.execute(sql)"
   ]
  },
  {
   "cell_type": "code",
   "execution_count": 9,
   "metadata": {},
   "outputs": [],
   "source": [
    "data = cursor.fetchall()"
   ]
  },
  {
   "cell_type": "code",
   "execution_count": 29,
   "metadata": {},
   "outputs": [],
   "source": [
    "for row in data:\n",
    "    id = row[0]\n",
    "    title = row[1]\n",
    "    year = row[2]\n",
    "    abstract = row[3]\n",
    "    dbname = row[4]\n",
    "    paper_node = n_matcher.match(\"Paper\",name=id).first()\n",
    "    if paper_node is None:\n",
    "        paper_node = Node(\"Paper\", name = id)\n",
    "    tr = graph.begin()\n",
    "    paper_node['title'] = title\n",
    "    paper_node['year'] = year \n",
    "    paper_node['abstract'] = abstract\n",
    "    paper_node['dbname'] = dbname\n",
    "    tr.push(paper_node)\n",
    "    graph.commit(tr)"
   ]
  },
  {
   "cell_type": "code",
   "execution_count": 32,
   "metadata": {},
   "outputs": [],
   "source": [
    "paper_node = n_matcher.match(\"Paper\",name='E03-1062').first()"
   ]
  },
  {
   "cell_type": "code",
   "execution_count": 33,
   "metadata": {},
   "outputs": [
    {
     "data": {
      "text/plain": [
       "Node('Paper', abstract='', cluster='3', dbname='aan', id='2443', name='E03-1062', title='A Flexible Pragmatics-Driven Language Generator For Animated Agents', year=2003)"
      ]
     },
     "execution_count": 33,
     "metadata": {},
     "output_type": "execute_result"
    }
   ],
   "source": [
    "paper_node"
   ]
  },
  {
   "cell_type": "code",
   "execution_count": null,
   "metadata": {},
   "outputs": [],
   "source": []
  }
 ],
 "metadata": {
  "interpreter": {
   "hash": "1baa965d5efe3ac65b79dfc60c0d706280b1da80fedb7760faf2759126c4f253"
  },
  "kernelspec": {
   "display_name": "Python 3.8.8 64-bit",
   "name": "python3"
  },
  "language_info": {
   "codemirror_mode": {
    "name": "ipython",
    "version": 3
   },
   "file_extension": ".py",
   "mimetype": "text/x-python",
   "name": "python",
   "nbconvert_exporter": "python",
   "pygments_lexer": "ipython3",
   "version": "3.8.8"
  },
  "orig_nbformat": 4
 },
 "nbformat": 4,
 "nbformat_minor": 2
}
